{
 "cells": [
  {
   "cell_type": "code",
   "execution_count": 1,
   "metadata": {},
   "outputs": [
    {
     "name": "stdout",
     "output_type": "stream",
     "text": [
      "Even Number\n"
     ]
    }
   ],
   "source": [
    "x = 10\n",
    "if x % 2 == 0:\n",
    "    print (\"Even Number\")\n",
    "elif x % 2 != 0:\n",
    "    print(\"Odd Number\")\n",
    "else:\n",
    "    print(\"Try again!\")"
   ]
  },
  {
   "cell_type": "code",
   "execution_count": 2,
   "metadata": {},
   "outputs": [
    {
     "name": "stdout",
     "output_type": "stream",
     "text": [
      " Enter the number = 5\n",
      "Odd Number\n"
     ]
    }
   ],
   "source": [
    "x = int(input(\" Enter the number = \"))\n",
    "if x % 2 == 0:\n",
    "    print (\"Even Number\")\n",
    "else:\n",
    "    print(\"Odd Number\")"
   ]
  },
  {
   "cell_type": "code",
   "execution_count": 3,
   "metadata": {},
   "outputs": [
    {
     "name": "stdout",
     "output_type": "stream",
     "text": [
      " Enter the number = -10\n",
      "Please input the positive number\n"
     ]
    }
   ],
   "source": [
    "x = int(input(\" Enter the number = \"))\n",
    "if x > 0:\n",
    "    for i in range(2,x):\n",
    "        if x % 2 == 0:\n",
    "            print(\" not an odd number \")\n",
    "            break\n",
    "        else:\n",
    "            print(\" odd number \")\n",
    "            break\n",
    "else:\n",
    "    print(\"Please input the positive number\")\n"
   ]
  },
  {
   "cell_type": "code",
   "execution_count": 4,
   "metadata": {},
   "outputs": [
    {
     "name": "stdout",
     "output_type": "stream",
     "text": [
      "Enter the value of X = 10\n",
      "Enter the value of Y = 10\n",
      "equal\n"
     ]
    }
   ],
   "source": [
    "x = int(input(\"Enter the value of X = \"))\n",
    "y = int(input(\"Enter the value of Y = \"))\n",
    "\n",
    "print(\"greater\") if x > y else print(\"equal\") if x == y else print(\"smaller\")\n",
    "\n",
    "\n"
   ]
  },
  {
   "cell_type": "code",
   "execution_count": 3,
   "metadata": {},
   "outputs": [
    {
     "name": "stdout",
     "output_type": "stream",
     "text": [
      "Viseth Putsaccda\n"
     ]
    }
   ],
   "source": [
    "first_name = 'Viseth'\n",
    "last_name = 'Putsaccda'\n",
    "full_name = f\"{first_name} {last_name}\"\n",
    "print(full_name)"
   ]
  },
  {
   "cell_type": "code",
   "execution_count": 7,
   "metadata": {},
   "outputs": [
    {
     "name": "stdout",
     "output_type": "stream",
     "text": [
      "Hello, Viseth Putsaccda!\n"
     ]
    }
   ],
   "source": [
    "first_name = 'Viseth'\n",
    "last_name = 'Putsaccda'\n",
    "full_name = f\"{first_name} {last_name}\"\n",
    "print(f\"Hello, {full_name.title()}!\")"
   ]
  },
  {
   "cell_type": "code",
   "execution_count": 11,
   "metadata": {},
   "outputs": [
    {
     "name": "stdout",
     "output_type": "stream",
     "text": [
      " Hello Crush , Lim Selika!\n"
     ]
    }
   ],
   "source": [
    "first_name = 'lim'\n",
    "last_name = 'selika'\n",
    "full_name = f\"{first_name} {last_name}\"\n",
    "message = f\" Hello Crush , {full_name.title()}!\"\n",
    "print(message)"
   ]
  },
  {
   "cell_type": "code",
   "execution_count": null,
   "metadata": {},
   "outputs": [],
   "source": [
    "print(\"language:\\nPython\\nc\\n\")"
   ]
  }
 ],
 "metadata": {
  "kernelspec": {
   "display_name": "Python 3",
   "language": "python",
   "name": "python3"
  },
  "language_info": {
   "codemirror_mode": {
    "name": "ipython",
    "version": 3
   },
   "file_extension": ".py",
   "mimetype": "text/x-python",
   "name": "python",
   "nbconvert_exporter": "python",
   "pygments_lexer": "ipython3",
   "version": "3.7.4"
  }
 },
 "nbformat": 4,
 "nbformat_minor": 2
}
